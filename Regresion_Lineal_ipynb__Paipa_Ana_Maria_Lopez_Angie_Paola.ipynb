{
  "nbformat": 4,
  "nbformat_minor": 0,
  "metadata": {
    "colab": {
      "provenance": [],
      "include_colab_link": true
    },
    "kernelspec": {
      "name": "python3",
      "display_name": "Python 3"
    },
    "language_info": {
      "name": "python"
    }
  },
  "cells": [
    {
      "cell_type": "markdown",
      "metadata": {
        "id": "view-in-github",
        "colab_type": "text"
      },
      "source": [
        "<a href=\"https://colab.research.google.com/github/angiepaloes/Regresion_Lineal/blob/main/Regresion_Lineal_ipynb__Paipa_Ana_Maria_Lopez_Angie_Paola.ipynb\" target=\"_parent\"><img src=\"https://colab.research.google.com/assets/colab-badge.svg\" alt=\"Open In Colab\"/></a>"
      ]
    },
    {
      "cell_type": "markdown",
      "source": [
        "# **Taller 3: Regresión Lineal y Conceptos Fundamentales**\n",
        "\n",
        "Integrantes:\n",
        "Ana Maria Paipa Bonilla\n",
        "Angie Paola Lopez Espinsa"
      ],
      "metadata": {
        "id": "O0v15T0Ipl_s"
      }
    },
    {
      "cell_type": "markdown",
      "source": [
        "# **Parte 1: Definición del Problema**\n"
      ],
      "metadata": {
        "id": "cm6LjuvIpm76"
      }
    },
    {
      "cell_type": "markdown",
      "source": [
        "Piensa en tu experiencia académica o laboral en un área de operaciones y elige un problema relacionado con inventarios, calidad, mantenimiento o productividad.\n",
        "\n",
        "1. Indica cuál es tu variable dependiente Y\n",
        " (aquello que quieres predecir o clasificar).\n",
        "2. Lista entre 3 y 5 variables independientes X\n",
        " que medirías para predecir Y\n",
        "3. Especifica si tu problema es de regresión (predecir un valor numérico) o de clasificación."
      ],
      "metadata": {
        "id": "d6fGS4btpyV6"
      }
    },
    {
      "cell_type": "markdown",
      "source": [
        "Uno de los retos claves es que las maquinas criticas fallan con frecuencia, generando paradas no programadas y generando baja eficiencia.\n",
        "\n",
        "**Respuesta 1:** Variable dependiente  (y): tiempo hasta la proxima falla de maquina (Horas/Dias de operación)\n",
        "\n",
        "**Respuesta 2:** Variables independiente (x):\n",
        "1. Horas de uso acumuladas de la maquina\n",
        "2. Numero de mantenimientos preventivos realizados\n",
        "3. Condiciones de operación (temperaturas, humedad, entre otras)\n",
        "4. Antiguedad de la maquina (años de servicio)\n",
        "\n",
        "**Respuesta 3:** Regresión: por que se busca predecir el tiempo que falta para que ocurra una falla."
      ],
      "metadata": {
        "id": "xfoJsbZQp3cZ"
      }
    },
    {
      "cell_type": "markdown",
      "source": [
        "# **Parte 2: Preprocesamiento de Datos y *Leakage***\n",
        "\n",
        "> Agregar bloque entrecomillado\n",
        "\n",
        "\n"
      ],
      "metadata": {
        "id": "MsIfXBVsp5Yy"
      }
    },
    {
      "cell_type": "markdown",
      "source": [
        "Basado en el caso que definiste en la Parte 1:\n",
        "\n",
        "1. Lista entre 3 y 5 transformaciones que aplicarías a tus datos (ej. imputación de valores faltantes, codificación de variables categóricas, escalado, creación de lags, etc.) y justifica por qué cada una es necesaria.\n",
        "2. Señala un posible riesgo de data leakage (fuga de datos) en tu plan y explica cómo lo evitarías usando un pipeline de preprocesamiento."
      ],
      "metadata": {
        "id": "m3sbo4E4p9Kq"
      }
    },
    {
      "cell_type": "markdown",
      "source": [
        "**Respuesta:**\n",
        "\n",
        "**Imputación de valores faltantes:**\n",
        "\n",
        "*  Justificación:Es probable que algunas variables como temperatura o humedad no se registren en todos los periodos. Imputar con medias, medianas o técnicas más avanzadas evita perdedia de registros utiles y mantener consistencia en la dataset.\n",
        "\n",
        "**Escalado de variables numéricas:**\n",
        "- Justificación:Las variables como horas de uso, vibración y temperatura tienen rangos muy diferentes. Si no se ajustan, el modelo puede dar más peso a las de valores grandes. Con técnicas como MinMaxScaler o StandardScaler, todas quedan en una misma escala, lo que mejora la precisión en algoritmos sensibles a estas diferencias.\n",
        "\n",
        "**Codificación de variables categóricas:**\n",
        "- Justificación: Variables como el tipo de máquina o el turno se convierten en números mediante One-Hot Encoding, ya que los algoritmos no entienden texto y requieren datos numéricos para hacer predicciones correctas.\n",
        "\n",
        "**Creación de variables derivadas:**\n",
        "- Justificación: Consiste en generar nuevas variables a partir de los datos , se puede calcular el promedio de vibración de la máquina en la última semana o contabilizar cuántas fallas presentó en los últimos meses. Esto permite reconocer tendencias y comportamientos repetitivos que ayudan a predecir de manera más precisa el momento en que una máquina puede fallar.\n",
        "\n",
        "**Eliminación de valores atípicos:**\n",
        "- Justificación: Se detectan y corrigen datos fuera de lo normal (ej. una temperatura extremadamente alta), ya que pueden distorsionar los resultados y afectar la precisión del modelo.\n",
        "\n",
        "**Respuesta 2:**\n",
        "**Posible riesgo de data leakage:**\n",
        "Un riesgo sería usar datos que en la práctica solo se conocen después de que ocurre la falla, como el tiempo que estuvo detenida la máquina o el costo de la reparación. Si esos valores se incluyen en el entrenamiento, el modelo estaría usando información del futuro, lo que genera predicciones irreales.\n",
        "\n",
        "**Cómo evitarlo:**\n",
        "La solución es diseñar un pipeline de preprocesamiento que utilice únicamente variables disponibles antes de la falla (por ejemplo, horas de uso, vibración, temperatura o mantenimientos preventivos). Además, todas las etapas de preparación de datos (imputación, escalado, codificación) deben ajustarse solo con el conjunto de entrenamiento y aplicarse después al de prueba, para no filtrar información futura."
      ],
      "metadata": {
        "id": "yDtcgoYZp_7i"
      }
    },
    {
      "cell_type": "markdown",
      "source": [
        "# Parte 3: Interpretación y Métricas de Regresión Simple\n"
      ],
      "metadata": {
        "id": "25NIRwk2qEqM"
      }
    },
    {
      "cell_type": "markdown",
      "source": [
        "Para esta sección, elige un caso simple de regresión (puede ser el tuyo o uno hipotético, como predecir la demanda de un producto según su precio).\n",
        "\n",
        "1. Define claramente las variables y junto con sus unidades (ej. Y: número de unidades vendidas, X: precio en dólares).\n",
        "2. Supón que entrenas un modelo y obtienes una pendiente de B1= -0.6 Escribe una interpretación clara y concisa de este coeficiente en el contexto de tu problema.\n",
        "3. ¿Qué métrica de evaluación usarías (MAE, RMSE, o MAPE) y por qué es la más adecuada para tu caso?\n",
        "4. Menciona un supuesto del modelo de regresión lineal que validarías (ej. linealidad, homocedasticidad) y explica cómo lo harías (usando un gráfico o una prueba estadística)."
      ],
      "metadata": {
        "id": "OJs_cJDEqHYj"
      }
    },
    {
      "cell_type": "markdown",
      "source": [
        "**Respuesta 1:**\n",
        "\n",
        "Variables:\n",
        "\n",
        "Y: Tiempo hasta la próxima falla de la máquina (en días).\n",
        "\n",
        "X: Horas acumuladas de uso de la máquina (en horas).\n",
        "\n",
        "**Respuesta 2:**\n",
        "\n",
        "Interpretación de la pendiente\n",
        "(B1 = -0.6):\n",
        "\n",
        "La pendiente de -0.6 indica que, por cada hora adicional de uso acumulado, el tiempo estimado hasta la próxima falla disminuye en promedio 0.6 días, lo que refleja el desgaste progresivo de la máquina.\n",
        "\n",
        "más uso → menos tiempo de vida útil disponible.\n",
        "\n",
        "**Respuesta 3:**\n",
        "\n",
        "Métrica de evaluación más adecuada RMSE (Root Mean Squared Error).\n",
        "\n",
        "Justificación: penaliza más los errores grandes, lo cual es clave en mantenimiento predictivo, ya que una predicción muy alejada puede causar fallas imprevistas o mantenimientos innecesarios.\n",
        "\n",
        "**Respuesta 4:**\n",
        "\n",
        "\n",
        "Supuesto: Linealidad entre las horas acumuladas de uso (X, en horas) y el tiempo hasta la próxima falla (Y, en días).\n",
        "\n",
        "Justificación en el contexto: Se asume que, a medida que aumentan las horas acumuladas de uso, el tiempo hasta la próxima falla disminuye de manera proporcional y constante.\n",
        "\n",
        "Cómo validarlo:\n",
        "\n",
        "Ajustar el modelo de regresión lineal entre horas de uso (X) y tiempo hasta la falla (Y).\n",
        "\n",
        "Graficar los residuos vs. valores predichos.\n",
        "\n",
        "Si los residuos se distribuyen aleatoriamente alrededor de cero → el supuesto de linealidad se cumple.\n",
        "\n",
        "Si aparece un patrón (ejemplo: curva o tendencia clara) → el supuesto se rompe, y habría que usar otro modelo."
      ],
      "metadata": {
        "id": "dYPZJzm0qJzh"
      }
    },
    {
      "cell_type": "markdown",
      "source": [
        "# Parte 4: Regresión Múltiple y Colinealidad\n"
      ],
      "metadata": {
        "id": "nTSSpUAFqQFJ"
      }
    },
    {
      "cell_type": "markdown",
      "source": [
        "Volviendo a tu caso de la Parte 1 (con múltiples variables).\n",
        "\n",
        "1. Escribe el vector de variables X\n",
        " y la respuesta  Y\n",
        "2. Explica cómo interpretarías el coeficiente de una de tus variables clave (incluyendo unidades y el sentido de la relación: positiva o negativa).\n",
        "3. Si sospecharas que existe colinealidad entre tus variables, menciona dos acciones que podrías tomar para mitigarla."
      ],
      "metadata": {
        "id": "NIR2QD_JqSbq"
      }
    },
    {
      "cell_type": "markdown",
      "source": [
        "**Respuesta 1:**\n",
        "\n",
        "\n",
        "**Vector de variables (X):**\n",
        "* Horas acumuladas de uso (horas)\n",
        "* Nivel de vibración (mm/s)\n",
        "* Temperatura promedio (°C)\n",
        "* Antigüedad de la máquina (años)\n",
        "\n",
        "* Variable respuesta (Y):\n",
        "* Tiempo hasta la próxima falla (días)\n",
        "\n",
        "**Respuesta 2:**\n",
        "\n",
        "Si el coeficiente de la temperatura es -0.8, significa que por cada aumento de 1 °C, el tiempo estimado hasta la próxima falla disminuye en 0.8 días. La relación es negativa, ya que mayor temperatura acelera el desgaste.\n",
        "\n",
        "**Respuesta 3:**\n",
        "\n",
        "**Acciones para mitigar colinealidad:**\n",
        "Podría (1) eliminar o combinar variables muy correlacionadas, como horas de uso y antigüedad, y (2) aplicar regularización (Ridge o Lasso), que ajusta los coeficientes y mejora la estabilidad del modelo."
      ],
      "metadata": {
        "id": "F4-yaJglqujy"
      }
    },
    {
      "cell_type": "markdown",
      "source": [
        "# Parte 5: Interacciones y Multicolinealidad (VIF)"
      ],
      "metadata": {
        "id": "rpGztUi1qyyB"
      }
    },
    {
      "cell_type": "markdown",
      "source": [
        "1. Plantea un caso con una variable Y y entre 4 y 6  variables X ¿Qué término de interacción entre dos variables podrías añadir al modelo y por qué crees que sería útil?\n",
        "2.   Si al calcular el Factor de Inflación de la Varianza (VIF) para una variable, obtienes un valor alto (ej. > 10), menciona dos acciones que podrías tomar para solucionarlo.\n",
        "\n"
      ],
      "metadata": {
        "id": "n9G9qQDoq1NZ"
      }
    },
    {
      "cell_type": "markdown",
      "source": [
        "**Respuesta 1**\n",
        "\n",
        "Y: Tiempo hasta la próxima falla (días).\n",
        "\n",
        "X:\n",
        "\n",
        "- Horas de uso acumuladas (X₁)\n",
        "- Nº de mantenimientos preventivos (X₂)\n",
        "\n",
        "- Vibración promedio (X₃)\n",
        "\n",
        "- Temperatura promedio (X₄)\n",
        "\n",
        "- Antigüedad de la máquina (X₅)\n",
        "\n",
        "**Término de interacción:**\n",
        "\n",
        " = (Horas de uso) × (Mantenimientos preventivos).\n",
        "\n",
        "**Utilidad:**\n",
        "El efecto de las horas de uso sobre el tiempo hasta la falla depende de cuántos mantenimientos se realizan. Con más mantenimientos, el desgaste por horas puede ser menor. La interacción permite capturar esta relación condicional y hacer predicciones más realistas.\n",
        "\n",
        "**Respuesta 2**\n",
        "\n",
        "**Acciones si el VIF es alto (> 10):**\n",
        "\n",
        "Usar reducción de dimensiones, por ejemplo PCA (Análisis de Componentes Principales), para resumir variables correlacionadas en menos factores.\n",
        "\n",
        "Recolectar más datos y variar condiciones de operación, lo que ayuda a disminuir la dependencia estadística entre las variables."
      ],
      "metadata": {
        "id": "taLqeE1drFDw"
      }
    },
    {
      "cell_type": "markdown",
      "source": [
        "# Parte 6: Variables Categóricas e Interacciones\n"
      ],
      "metadata": {
        "id": "b5lh5z3FrG0K"
      }
    },
    {
      "cell_type": "markdown",
      "source": [
        "1. Define una variable categórica para tu caso (puedes inventarla si no la tenías).Elige una de sus categorías como el nivel base o de referencia y justifica tu elección.\n",
        "2.   Crea una interacción entre una variable numérica y la variable categórica que definiste. Explica cómo se interpretaría el coeficiente de esta interacción.\n",
        "\n"
      ],
      "metadata": {
        "id": "2tRc_vFwrKJR"
      }
    },
    {
      "cell_type": "markdown",
      "source": [
        "**Respuesta 1**\n",
        "Variable categórica: Tipo de máquina, con categorías:\n",
        "\n",
        "A: Alta criticidad\n",
        "\n",
        "B: Media criticidad\n",
        "\n",
        "C: Baja criticidad (nivel base)\n",
        "\n",
        "Se elige la categoría C como referencia porque representa el escenario menos crítico. Los coeficientes de las otras categorías muestran cómo cambia el tiempo hasta la falla en comparación con las máquinas de baja criticidad.\n",
        "\n",
        "**Respuesta 2**\n",
        "\n",
        "- Interacción: Se combina la variable numérica “horas de uso acumuladas” con la variable categórica “tipo de máquina”. Esto permite analizar cómo el efecto de las horas de uso en el tiempo hasta la falla cambia según el tipo de máquina.\n",
        "\n",
        "- Interpretación: Si la interacción “Horas de uso × Tipo A” tiene un coeficiente negativo, significa que las máquinas de alta criticidad reducen su tiempo hasta la falla más rápido por cada hora de uso adicional, en comparación con las máquinas de baja criticidad.\n"
      ],
      "metadata": {
        "id": "g7Sl_y3nrPyx"
      }
    },
    {
      "cell_type": "markdown",
      "source": [
        "# Parte 7: Conceptos Clave de Clasificación\n"
      ],
      "metadata": {
        "id": "nrr_vSWsrROx"
      }
    },
    {
      "cell_type": "markdown",
      "source": [
        "Aunque el taller se centra en regresión, estos conceptos son fundamentales en Machine Learning.\n",
        "\n",
        "\n",
        "\n",
        "1.   Explica qué es la curva ROC y para qué se utiliza en un problema de clasificación.\n",
        "2.  Define el concepto de accuracy (exactitud) y menciona una situación en la que podría ser una métrica engañosa.\n",
        "3. Describe qué es una matriz de confusión y cómo se interpretan sus componentes (Verdaderos Positivos, Falsos Positivos, Verdaderos Negativos, Falsos Negativos).\n",
        "\n"
      ],
      "metadata": {
        "id": "IrnWJpTorS9Z"
      }
    },
    {
      "cell_type": "markdown",
      "source": [
        "**Respuesta 1**\n",
        "\n",
        "La curva ROC (Receiver Operating Characteristic) es una herramienta que se usa en problemas de clasificación para evaluar el desempeño de un modelo.\n",
        "- Representa la relación entre la tasa de verdaderos positivos (TPR) y la tasa de falsos positivos (FPR) para distintos umbrales de decisión.\n",
        "- Se utiliza para visualizar la capacidad del modelo de distinguir entre clases. Un modelo perfecto tendría una curva que pasa por la esquina superior izquierda, mientras que una línea diagonal indica que el modelo no es mejor que adivinar al azar.\n",
        "\n",
        "**Respuesta 2**\n",
        "\n",
        "El accuracy es una métrica que mide el porcentaje de predicciones correctas que realiza un modelo frente al total de casos evaluados. En otras palabras, indica con qué frecuencia el modelo acierta, sin importar de qué clase se trate.\n",
        "\n",
        "**Situación en la que puede ser engañosa:**\n",
        "El accuracy resulta poco confiable cuando los datos están desbalanceados (es decir, cuando una clase es mucho más frecuente que la otra).\n",
        "\n",
        "**Ejemplo:**\n",
        "En un sistema de mantenimiento predictivo, si de 100 máquinas solo 5 fallan y 95 funcionan bien, un modelo que siempre prediga “la máquina funciona bien” tendría un accuracy del 95%. Sin embargo, ese modelo no detecta ninguna falla, que es precisamente lo más crítico para la operación.\n",
        "\n",
        "**Respuesta 3**\n",
        "\n",
        "La matriz de confusión es una tabla que permite evaluar el desempeño de un modelo de clasificación. Resume los resultados de las predicciones comparándolas con los valores reales y muestra en qué casos el modelo acierta y en cuáles se equivoca.\n",
        "\n",
        "**Componentes y su interpretación:**\n",
        "\n",
        "**Verdaderos Positivos (VP):**\n",
        "- Casos positivos que el modelo predijo correctamente.\n",
        "\n",
        "**Ejemplo:** La máquina iba a fallar y el modelo predijo correctamente “falla”.\n",
        "\n",
        "\n",
        "**Falsos Positivos (FP):**\n",
        "\n",
        "- Casos negativos que el modelo predijo como positivos\n",
        "\n",
        "**Ejemplo:** La máquina no iba a fallar, pero el modelo dijo que sí fallaría.\n",
        "\n",
        "**Verdaderos Negativos (VN):**\n",
        "\n",
        "- Casos negativos que el modelo predijo correctamente.\n",
        "\n",
        "**Ejemplo:** La máquina no iba a fallar y el modelo dijo correctamente “no falla”.\n",
        "\n",
        "**Falsos Negativos (FN):**\n",
        "\n",
        "- Casos positivos que el modelo predijo como negativos\n",
        "\n",
        "**Ejemplo:** La máquina iba a fallar, pero el modelo dijo “no falla”."
      ],
      "metadata": {
        "id": "NxeF3GC0rdG7"
      }
    }
  ]
}